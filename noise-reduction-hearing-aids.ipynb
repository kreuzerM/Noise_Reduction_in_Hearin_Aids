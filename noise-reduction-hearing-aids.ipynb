{
 "cells": [
  {
   "cell_type": "markdown",
   "metadata": {},
   "source": [
    "# Noise Reduction in Hearing-Aids"
   ]
  },
  {
   "cell_type": "markdown",
   "metadata": {},
   "source": [
    "## Introduction"
   ]
  },
  {
   "cell_type": "markdown",
   "metadata": {},
   "source": [
    "About 15% of the worlds population suffer from mild so severe hearing impairment resulting in a reduction of speech intelligibility in noisy environments. The hearing loss is caused by damage to the hair cells in the cochlea which can lead to  \n",
    "- an increased hearing threshold, \n",
    "- reduced dynamic range  \n",
    "- or a reduced frequency selectivity.\n",
    "Therefore they are reliant on some kind of hearing device. These devices can either be hearing aids for mild to severe hearing loss or cochlear implants in the case of a profound hearing loss. Signal Processing can now be used so selectively enhance useful speech signals in the presence of noise.   \n",
    "Since many hearing impaired are equipped with earing aids at both ears, multiple sensors can be utilized. This allows for spectral and spatial processing methods. In the ideal case the binaural cues are preserved such that the desired and the undesired signals(noise) can still be localized. This aspect is very important, when e.g. you are moving in traffic and have to determine the direction of an passing bus.  \n",
    "In the following we will take a closer look at the **noise compensation by human listeners**.\n"
   ]
  },
  {
   "cell_type": "markdown",
   "metadata": {},
   "source": [
    "  \n",
    "<img src=figures/Hearing-aid.png width=700 height=400>/"
   ]
  },
  {
   "cell_type": "markdown",
   "metadata": {},
   "source": [
    "## Noise Compensation by Human Listeners\n",
    "\n",
    "|<img src=figures/Hearing-aid.png width=700 height=700>/|\n",
    "|:----:|  \n",
    "|***Figure:*** *Signal processing in a hearing aid*| \n",
    "    \n",
    "text\n",
    "\n",
    "\n",
    "|<img src=figures/binaural_cues.png width=500 height=500>/|\n",
    "|:----:|  \n",
    "|***Figure:*** *Binaural cues*| "
   ]
  },
  {
   "cell_type": "markdown",
   "metadata": {},
   "source": [
    "## Bilateral Noise Reduction"
   ]
  },
  {
   "cell_type": "code",
   "execution_count": null,
   "metadata": {
    "collapsed": true
   },
   "outputs": [],
   "source": []
  },
  {
   "cell_type": "markdown",
   "metadata": {},
   "source": [
    "## Binaural Noise Reduction"
   ]
  }
 ],
 "metadata": {
  "kernelspec": {
   "display_name": "Python 3",
   "language": "python",
   "name": "python3"
  },
  "language_info": {
   "codemirror_mode": {
    "name": "ipython",
    "version": 3
   },
   "file_extension": ".py",
   "mimetype": "text/x-python",
   "name": "python",
   "nbconvert_exporter": "python",
   "pygments_lexer": "ipython3",
   "version": "3.6.3"
  }
 },
 "nbformat": 4,
 "nbformat_minor": 2
}
